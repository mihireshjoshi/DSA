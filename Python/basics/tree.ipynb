{
 "cells": [
  {
   "cell_type": "code",
   "execution_count": 33,
   "metadata": {},
   "outputs": [],
   "source": [
    "class TreeNode:\n",
    "    def __init__(self, data):\n",
    "        self.data = data\n",
    "        self.children = []\n",
    "        self.parent = None\n",
    "\n",
    "    def add_child(self, child):\n",
    "        child.parent = self\n",
    "        self.children.append(child)\n",
    "\n",
    "    def get_level(self):\n",
    "        level = 0\n",
    "        p= self.parent\n",
    "        while p:\n",
    "            level += 1\n",
    "            p = p.parent\n",
    "        return level\n",
    "\n",
    "    def print_tree(self):\n",
    "        spaces = \" \" * self.get_level() * 2\n",
    "        prefix = spaces + \"|--\" if self.parent else \"\"\n",
    "        print(prefix + self.data)\n",
    "        if self.children:\n",
    "            for child in self.children:\n",
    "                child.print_tree()"
   ]
  },
  {
   "cell_type": "code",
   "execution_count": 34,
   "metadata": {},
   "outputs": [],
   "source": [
    "engineering = TreeNode(\"BTech\")"
   ]
  },
  {
   "cell_type": "code",
   "execution_count": 35,
   "metadata": {},
   "outputs": [],
   "source": [
    "comps = TreeNode(\"Computer Engineering\")\n",
    "comps.add_child(TreeNode(\"A\"))\n",
    "comps.add_child(TreeNode(\"B\"))\n",
    "comps.add_child(TreeNode(\"C\"))\n",
    "comps.add_child(TreeNode(\"D\"))\n",
    "comps.add_child(TreeNode(\"E\"))\n",
    "comps.add_child(TreeNode(\"F\"))\n",
    "comps.add_child(TreeNode(\"G\"))\n",
    "\n",
    "extc = TreeNode(\"Electronics and Telecommunicaion\")\n",
    "extc.add_child(TreeNode(\"A\"))\n",
    "\n",
    "it = TreeNode(\"Information Technology\")\n",
    "it.add_child(TreeNode(\"A\"))\n",
    "it.add_child(TreeNode(\"B\"))\n",
    "\n",
    "instru = TreeNode(\"Instrumental Engineering\")\n",
    "instru.add_child(TreeNode(\"A\"))\n",
    "\n",
    "engineering.add_child(comps)\n",
    "engineering.add_child(it)\n",
    "engineering.add_child(extc)\n",
    "engineering.add_child(instru)"
   ]
  },
  {
   "cell_type": "code",
   "execution_count": 36,
   "metadata": {},
   "outputs": [
    {
     "name": "stdout",
     "output_type": "stream",
     "text": [
      "BTech\n",
      "  |--Computer Engineering\n",
      "    |--A\n",
      "    |--B\n",
      "    |--C\n",
      "    |--D\n",
      "    |--E\n",
      "    |--F\n",
      "    |--G\n",
      "  |--Information Technology\n",
      "    |--A\n",
      "    |--B\n",
      "  |--Electronics and Telecommunicaion\n",
      "    |--A\n",
      "  |--Instrumental Engineering\n",
      "    |--A\n"
     ]
    }
   ],
   "source": [
    "engineering.print_tree()"
   ]
  }
 ],
 "metadata": {
  "kernelspec": {
   "display_name": "Python 3",
   "language": "python",
   "name": "python3"
  },
  "language_info": {
   "codemirror_mode": {
    "name": "ipython",
    "version": 3
   },
   "file_extension": ".py",
   "mimetype": "text/x-python",
   "name": "python",
   "nbconvert_exporter": "python",
   "pygments_lexer": "ipython3",
   "version": "3.12.2"
  }
 },
 "nbformat": 4,
 "nbformat_minor": 2
}
