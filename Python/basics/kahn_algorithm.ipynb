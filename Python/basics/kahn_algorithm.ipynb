{
 "cells": [
  {
   "cell_type": "markdown",
   "metadata": {},
   "source": [
    "# <strong style=\"color: yellow\">Kahn's Algorithm for Topological Sorting</strong>\n",
    "\n",
    "## Introduction\n",
    "\n",
    "Kahn's Algorithm is a method for performing topological sorting on a Directed Acyclic Graph (DAG). The algorithm uses the concept of in-degree (number of incoming edges) to iteratively remove nodes with zero in-degree and build the topological order.\n",
    "\n",
    "## Steps\n",
    "\n",
    "1. **Initialization**:\n",
    "   - Compute the in-degree of each node.\n",
    "   - Initialize a queue with all nodes having zero in-degree.\n",
    "\n",
    "2. **Processing**:\n",
    "   - While the queue is not empty:\n",
    "     - Remove a node from the queue.\n",
    "     - Append it to the topological order.\n",
    "     - Decrease the in-degree of all its neighbors by 1.\n",
    "     - If any neighbor's in-degree becomes zero, add it to the queue.\n",
    "\n",
    "3. **Validation**:\n",
    "   - If the topological order contains all nodes, the graph is a DAG.\n",
    "   - If not, the graph contains at least one cycle, and topological sorting is not possible.\n"
   ]
  },
  {
   "cell_type": "code",
   "execution_count": 1,
   "metadata": {},
   "outputs": [],
   "source": [
    "from collections import defaultdict, deque"
   ]
  },
  {
   "cell_type": "code",
   "execution_count": 2,
   "metadata": {},
   "outputs": [
    {
     "name": "stdout",
     "output_type": "stream",
     "text": [
      "Graph>>>>>>>>defaultdict(<class 'list'>, {0: [3, 4], 1: [3], 2: [4, 7], 3: [5, 6, 7], 4: [6]})\n",
      "Final queue>>>>>>>>[]\n",
      "Final Queue>>>>>>>>deque([0, 1, 2])\n",
      "Final Queue>>>>>>>>deque([2, 3])\n",
      "Final Queue>>>>>>>>deque([3, 4])\n",
      "Final Queue>>>>>>>>deque([4, 5])\n",
      "Final Queue>>>>>>>>deque([4, 5, 7])\n",
      "Final Queue>>>>>>>>deque([5, 7, 6])\n",
      "Topological Order>>>>>>[0, 1, 2, 3, 4, 5, 7, 6]\n",
      "Result>>>>>>>>[0, 1, 2, 3, 4, 5, 7, 6]\n"
     ]
    }
   ],
   "source": [
    "def kahn_algo (n, edges):\n",
    "    graph = defaultdict(list)\n",
    "    in_deg = [0] * n\n",
    "\n",
    "    for u, v in edges:\n",
    "        graph[u].append(v)\n",
    "        in_deg[v] += 1\n",
    "\n",
    "    print(f\"Graph>>>>>>>>{graph}\")\n",
    "\n",
    "    queue = []\n",
    "    print(f\"Final queue>>>>>>>>{queue}\")\n",
    "\n",
    "    queue = deque([i for i in range(n) if in_deg[i] == 0])   \n",
    "    print(f\"Final Queue>>>>>>>>{queue}\")\n",
    "\n",
    "    topological_order = []\n",
    "\n",
    "    while queue:\n",
    "        ele = queue.popleft()\n",
    "        topological_order.append(ele)\n",
    "\n",
    "        # print(f\"Graph Element>>>>>>>{graph[ele]}\")\n",
    "\n",
    "        for x in graph[ele]:\n",
    "            in_deg[x] -= 1\n",
    "            if in_deg[x] == 0:\n",
    "                queue.append(x)\n",
    "                print(f\"Final Queue>>>>>>>>{queue}\")\n",
    "        \n",
    "\n",
    "    print(f\"Topological Order>>>>>>{topological_order}\")\n",
    "    if len(topological_order) == n:\n",
    "        return topological_order\n",
    "    else:\n",
    "        return \"Cycle present\"\n",
    "\n",
    "\n",
    "n = 8\n",
    "b = [[0,3],[0,4],[1,3],[2,4],[2,7],[3,5],[3,6],[3,7],[4,6]]\n",
    "res = kahn_algo(n, b)\n",
    "\n",
    "print(f\"Result>>>>>>>>{res}\")"
   ]
  }
 ],
 "metadata": {
  "kernelspec": {
   "display_name": "Python 3",
   "language": "python",
   "name": "python3"
  },
  "language_info": {
   "codemirror_mode": {
    "name": "ipython",
    "version": 3
   },
   "file_extension": ".py",
   "mimetype": "text/x-python",
   "name": "python",
   "nbconvert_exporter": "python",
   "pygments_lexer": "ipython3",
   "version": "3.12.2"
  }
 },
 "nbformat": 4,
 "nbformat_minor": 2
}
