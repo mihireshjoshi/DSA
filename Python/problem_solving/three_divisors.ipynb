{
 "cells": [
  {
   "cell_type": "markdown",
   "metadata": {},
   "source": [
    "# <strong>🧩1952. Three Divisors</strong>\n",
    "\n",
    "### Example 1:\n",
    "```bash\n",
    "Input: n = 2\n",
    "Output: false\n",
    "Explantion: 2 has only two divisors: 1 and 2.\n",
    "```\n",
    "\n",
    "### Example 2:\n",
    "```bash\n",
    "Input: n = 4\n",
    "Output: true\n",
    "Explantion: 4 has three divisors: 1, 2, and 4.\n",
    "```"
   ]
  },
  {
   "cell_type": "code",
   "execution_count": 1,
   "metadata": {},
   "outputs": [
    {
     "name": "stdout",
     "output_type": "stream",
     "text": [
      "True\n"
     ]
    }
   ],
   "source": [
    "class Solution:\n",
    "    def isThree(self, n: int) -> bool:\n",
    "        count = 0\n",
    "        for i in range(1, n+1):\n",
    "            if n%i==0:\n",
    "                count += 1\n",
    "        if count==3:\n",
    "            return True\n",
    "        else:\n",
    "            return False\n",
    "        \n",
    "sol = Solution()\n",
    "\n",
    "print(sol.isThree(4))"
   ]
  }
 ],
 "metadata": {
  "kernelspec": {
   "display_name": "Python 3",
   "language": "python",
   "name": "python3"
  },
  "language_info": {
   "codemirror_mode": {
    "name": "ipython",
    "version": 3
   },
   "file_extension": ".py",
   "mimetype": "text/x-python",
   "name": "python",
   "nbconvert_exporter": "python",
   "pygments_lexer": "ipython3",
   "version": "3.12.2"
  }
 },
 "nbformat": 4,
 "nbformat_minor": 2
}
