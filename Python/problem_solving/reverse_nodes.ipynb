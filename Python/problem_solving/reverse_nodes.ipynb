{
 "cells": [
  {
   "cell_type": "markdown",
   "metadata": {},
   "source": [
    "# <strong>25. Reverse Nodes in k-Group</strong>\n",
    "\n",
    "Given the ```head``` of a linked list, reverse the nodes of the list ```k``` at a time, and return the modified list.\n",
    "\n",
    "```k``` is a positive integer and is less than or equal to the length of the linked list. If the number of nodes is not a multiple of k then left-out nodes, in the end, should remain as it is.\n",
    "\n",
    "You may not alter the values in the list's nodes, only nodes themselves may be changed.\n",
    "\n",
    "\n",
    "\n",
    "## Example 1:\n",
    "\n",
    "```bash\n",
    "Input: head = [1,2,3,4,5], k = 2\n",
    "Output: [2,1,4,3,5]\n",
    "```\n",
    "\n",
    "## Example 2:\n",
    "\n",
    "```bash\n",
    "Input: head = [1,2,3,4,5], k = 3\n",
    "Output: [3,2,1,4,5]\n",
    "```\n"
   ]
  },
  {
   "cell_type": "code",
   "execution_count": 1,
   "metadata": {},
   "outputs": [],
   "source": [
    "from typing import Optional"
   ]
  },
  {
   "cell_type": "markdown",
   "metadata": {},
   "source": [
    "# Using While for time better Time Complexity"
   ]
  },
  {
   "cell_type": "code",
   "execution_count": 28,
   "metadata": {},
   "outputs": [
    {
     "name": "stdout",
     "output_type": "stream",
     "text": [
      "[1, 2, 3, 4, 5]\n",
      "1 -> 2 -> 3 -> 4 -> 5 -> None\n",
      "[3, 2, 1, 4, 5]\n",
      "Breaking here\n",
      "\n",
      "\n",
      "Final list is:\n",
      "3 -> 2 -> 1 -> 4 -> 5 -> None\n"
     ]
    }
   ],
   "source": [
    "class ListNode:\n",
    "    def __init__(self, val=0, next=None):\n",
    "        self.val = val\n",
    "        self.next = next\n",
    "\n",
    "class Solution:\n",
    "    def print_linkedlist(self, node):\n",
    "        while node:\n",
    "            print(node.val, end=\" -> \")\n",
    "            node = node.next\n",
    "        print(\"None\") \n",
    "\n",
    "    def list_to_linkedlist(self, lst):\n",
    "        dummy = ListNode()\n",
    "        current = dummy\n",
    "        for value in lst:\n",
    "            current.next = ListNode(value)\n",
    "            current = current.next\n",
    "        return dummy.next\n",
    "    \n",
    "    def reverseKGroup(self, head: Optional[ListNode], k: int) -> Optional[ListNode]:\n",
    "        print(head)\n",
    "        n = len(head)\n",
    "        fin = self.list_to_linkedlist(head)\n",
    "        self.print_linkedlist(fin)\n",
    "        temp = []\n",
    "        i = 0\n",
    "        while i<n:\n",
    "            if i+k>n:\n",
    "                print(f\"Breaking here\")\n",
    "                break\n",
    "            else:\n",
    "                temp = head[i:i+k]\n",
    "                temp.reverse()\n",
    "                head[i:i+k] = temp\n",
    "                i = i + k \n",
    "                \n",
    "                print(head)\n",
    "        res = self.list_to_linkedlist(head)\n",
    "        return res\n",
    "        \n",
    "\n",
    "\n",
    "sol = Solution()\n",
    "\n",
    "b = [1,2,3,4,5]\n",
    "k = 3\n",
    "result = sol.reverseKGroup(b, k)\n",
    "print(\"\\n\\nFinal list is:\")\n",
    "sol.print_linkedlist(result)"
   ]
  },
  {
   "cell_type": "markdown",
   "metadata": {},
   "source": [
    "# Using For to explore Python For loops"
   ]
  },
  {
   "cell_type": "code",
   "execution_count": 27,
   "metadata": {},
   "outputs": [
    {
     "name": "stdout",
     "output_type": "stream",
     "text": [
      "[1, 2, 3, 4, 5]\n",
      "1 -> 2 -> 3 -> 4 -> 5 -> None\n",
      "[3, 2, 1, 4, 5]\n",
      "Breaking here\n",
      "\n",
      "\n",
      "Final list is:\n",
      "3 -> 2 -> 1 -> 4 -> 5 -> None\n"
     ]
    }
   ],
   "source": [
    "class ListNode:\n",
    "    def __init__(self, val=0, next=None):\n",
    "        self.val = val\n",
    "        self.next = next\n",
    "\n",
    "class Solution:\n",
    "    def print_linkedlist(self, node):\n",
    "        while node:\n",
    "            print(node.val, end=\" -> \")\n",
    "            node = node.next\n",
    "        print(\"None\") \n",
    "\n",
    "    def list_to_linkedlist(self, lst):\n",
    "        dummy = ListNode()\n",
    "        current = dummy\n",
    "        for value in lst:\n",
    "            current.next = ListNode(value)\n",
    "            current = current.next\n",
    "        return dummy.next\n",
    "    \n",
    "    def reverseKGroup(self, head: Optional[ListNode], k: int) -> Optional[ListNode]:\n",
    "        print(head)\n",
    "        n = len(head)\n",
    "        fin = self.list_to_linkedlist(head)\n",
    "        self.print_linkedlist(fin)\n",
    "        temp = []\n",
    "        for i in range(0, n, k):\n",
    "            if i+k>n:\n",
    "                print(f\"Breaking here\")\n",
    "                break\n",
    "            else:\n",
    "                temp = head[i:i+k]\n",
    "                temp.reverse()\n",
    "                head[i:i+k] = temp\n",
    "                i = i + k \n",
    "                \n",
    "                print(head)\n",
    "        res = self.list_to_linkedlist(head)\n",
    "        return res\n",
    "        \n",
    "\n",
    "\n",
    "sol = Solution()\n",
    "\n",
    "b = [1,2,3,4,5]\n",
    "k = 3\n",
    "result = sol.reverseKGroup(b, k)\n",
    "print(\"\\n\\nFinal list is:\")\n",
    "sol.print_linkedlist(result)"
   ]
  }
 ],
 "metadata": {
  "kernelspec": {
   "display_name": "Python 3",
   "language": "python",
   "name": "python3"
  },
  "language_info": {
   "codemirror_mode": {
    "name": "ipython",
    "version": 3
   },
   "file_extension": ".py",
   "mimetype": "text/x-python",
   "name": "python",
   "nbconvert_exporter": "python",
   "pygments_lexer": "ipython3",
   "version": "3.12.2"
  }
 },
 "nbformat": 4,
 "nbformat_minor": 2
}
