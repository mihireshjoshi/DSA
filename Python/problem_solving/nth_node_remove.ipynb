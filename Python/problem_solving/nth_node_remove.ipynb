{
 "cells": [
  {
   "cell_type": "code",
   "execution_count": 1,
   "metadata": {},
   "outputs": [],
   "source": [
    "from typing import Optional"
   ]
  },
  {
   "cell_type": "code",
   "execution_count": 6,
   "metadata": {},
   "outputs": [
    {
     "name": "stdout",
     "output_type": "stream",
     "text": [
      "1 -> None\n",
      "1 -> None\n"
     ]
    }
   ],
   "source": [
    "class ListNode:\n",
    "    def __init__(self, val=0, next=None):\n",
    "        self.val = val\n",
    "        self.next = next\n",
    "    def length_ll(self):\n",
    "        counter = 0\n",
    "        while self:\n",
    "            counter += 1\n",
    "            self = self.next\n",
    "        return counter\n",
    "    \n",
    "class Solution:\n",
    "    def removeNthFromEnd(self, head: Optional[ListNode], n: int) -> Optional[ListNode]:\n",
    "        if n<0 or n>head.length_ll():\n",
    "            raise Exception(f\"Invalid Index: {n}\")\n",
    "        if n == 0:\n",
    "            return head\n",
    "        counter = 0\n",
    "        ret = head\n",
    "        while head:\n",
    "            if counter == n:\n",
    "                head.next = head.next.next\n",
    "                break\n",
    "            head = head.next\n",
    "            counter += 1\n",
    "        return ret\n",
    "\n",
    "\n",
    "def list_to_linkedlist(lst):\n",
    "    dummy = ListNode()\n",
    "    current = dummy\n",
    "    for value in lst:\n",
    "        current.next = ListNode(value)\n",
    "        current = current.next\n",
    "    return dummy.next\n",
    "\n",
    "def print_linkedlist(node):\n",
    "    while node:\n",
    "        print(node.val, end=\" -> \")\n",
    "        node = node.next\n",
    "    print(\"None\") \n",
    "\n",
    "lst = [1]\n",
    "l = list_to_linkedlist(lst)\n",
    "print_linkedlist(l)\n",
    "\n",
    "sol = Solution()\n",
    "a = sol.removeNthFromEnd(l, 1)\n",
    "print_linkedlist(a)"
   ]
  },
  {
   "cell_type": "code",
   "execution_count": 8,
   "metadata": {},
   "outputs": [
    {
     "name": "stdout",
     "output_type": "stream",
     "text": [
      "1 -> None\n",
      "None\n"
     ]
    }
   ],
   "source": [
    "# Definition for singly-linked list.\n",
    "class ListNode:\n",
    "    def __init__(self, val=0, next=None):\n",
    "        self.val = val\n",
    "        self.next = next\n",
    "    def length_ll(self):\n",
    "        counter = 0\n",
    "        while self:\n",
    "            counter += 1\n",
    "            self = self.next\n",
    "        return counter\n",
    "class Solution:\n",
    "    def removeNthFromEnd(self, head: Optional[ListNode], n: int) -> Optional[ListNode]:\n",
    "        if n<0 or n>head.length_ll():\n",
    "            raise Exception(f\"Invalid Index: {n}\")\n",
    "        if n == 0:\n",
    "            return head\n",
    "        if head.length_ll() == 1:\n",
    "            head = None\n",
    "            return head\n",
    "        counter = 0\n",
    "        ret = head\n",
    "        while head:\n",
    "            if counter == n:\n",
    "                head.next = head.next.next\n",
    "                break\n",
    "            head = head.next\n",
    "            counter += 1\n",
    "        return ret\n",
    "    \n",
    "def list_to_linkedlist(lst):\n",
    "    dummy = ListNode()\n",
    "    current = dummy\n",
    "    for value in lst:\n",
    "        current.next = ListNode(value)\n",
    "        current = current.next\n",
    "    return dummy.next\n",
    "\n",
    "def print_linkedlist(node):\n",
    "    while node:\n",
    "        print(node.val, end=\" -> \")\n",
    "        node = node.next\n",
    "    print(\"None\") \n",
    "\n",
    "lst = [1]\n",
    "l = list_to_linkedlist(lst)\n",
    "print_linkedlist(l)\n",
    "\n",
    "sol = Solution()\n",
    "a = sol.removeNthFromEnd(l, 1)\n",
    "print_linkedlist(a)"
   ]
  },
  {
   "cell_type": "code",
   "execution_count": 42,
   "metadata": {},
   "outputs": [],
   "source": [
    "# Definition for singly-linked list.\n",
    "class ListNode:\n",
    "    def __init__(self, val=0, next=None):\n",
    "        self.val = val\n",
    "        self.next = next    \n",
    "    \n",
    "class Solution:\n",
    "    def length_ll(self, head):\n",
    "        counter = 0\n",
    "        while head:\n",
    "            counter += 1\n",
    "            head = head.next\n",
    "        return counter\n",
    "    \n",
    "    def removeNthFromEnd(self, head: Optional[ListNode], n: int) -> Optional[ListNode]:\n",
    "        if n<0 or n>self.length_ll(head):\n",
    "            raise Exception(f\"Invalid Index: {n}\")\n",
    "        if n == 0:\n",
    "            return head\n",
    "        if self.length_ll(head) == 1:\n",
    "            head = None\n",
    "            return head\n",
    "        counter = 0\n",
    "        ret = head\n",
    "        while head:\n",
    "            if counter == n:\n",
    "                if head.next:\n",
    "                    head.next = head.next.next\n",
    "                else:\n",
    "                    head = None\n",
    "                break\n",
    "            head = head.next\n",
    "            counter += 1\n",
    "        return ret"
   ]
  },
  {
   "cell_type": "code",
   "execution_count": 43,
   "metadata": {},
   "outputs": [],
   "source": [
    "def list_to_linkedlist(lst):\n",
    "    dummy = ListNode()\n",
    "    current = dummy\n",
    "    for value in lst:\n",
    "        current.next = ListNode(value)\n",
    "        current = current.next\n",
    "    return dummy.next\n",
    "\n",
    "lst = [1,2]\n",
    "ll = list_to_linkedlist(lst)"
   ]
  },
  {
   "cell_type": "code",
   "execution_count": 44,
   "metadata": {},
   "outputs": [],
   "source": [
    "sol = Solution()"
   ]
  },
  {
   "cell_type": "code",
   "execution_count": 45,
   "metadata": {},
   "outputs": [],
   "source": [
    "ll = sol.removeNthFromEnd(ll, 1)"
   ]
  },
  {
   "cell_type": "code",
   "execution_count": 46,
   "metadata": {},
   "outputs": [
    {
     "name": "stdout",
     "output_type": "stream",
     "text": [
      "1 -> 2 -> None\n"
     ]
    }
   ],
   "source": [
    "def print_linkedlist(node):\n",
    "    while node:\n",
    "        print(node.val, end=\" -> \")\n",
    "        node = node.next\n",
    "    print(\"None\") \n",
    "\n",
    "print_linkedlist(ll)"
   ]
  }
 ],
 "metadata": {
  "kernelspec": {
   "display_name": "Python 3",
   "language": "python",
   "name": "python3"
  },
  "language_info": {
   "codemirror_mode": {
    "name": "ipython",
    "version": 3
   },
   "file_extension": ".py",
   "mimetype": "text/x-python",
   "name": "python",
   "nbconvert_exporter": "python",
   "pygments_lexer": "ipython3",
   "version": "3.12.2"
  }
 },
 "nbformat": 4,
 "nbformat_minor": 2
}
