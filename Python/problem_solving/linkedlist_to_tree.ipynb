{
 "cells": [
  {
   "cell_type": "markdown",
   "metadata": {},
   "source": [
    "# <strong style=\"color: #0BB010\">Make Binary Tree From Linked List</strong> \n",
    "\n",
    "<p style=\"color: #EBB31E\">Medium</p>\n",
    "\n",
    "\n",
    "Given a Linked List Representation of Complete Binary Tree. Your task is to construct the Binary tree from the given linkedlist and return the root of the tree.\n",
    "The result will be judged by printing the level order traversal of the Binary tree. \n",
    "Note: The complete binary tree is represented as a linked list in a way where if the root node is stored at position ```i```, its ```left```, and ```right``` children are stored at position ```2*i+1```, and ```2*i+2``` respectively. ```H``` is the height of the tree and this space is used implicitly for the recursion stack.\n",
    "\n",
    "### Example:\n",
    "\n",
    "```bash\n",
    "Input: n = 5, k = 1->2->3->4->5\n",
    "Output: 1 2 3 4 5\n",
    "Explanation: The tree would look like\n",
    "      1\n",
    "    /   \\\n",
    "   2     3\n",
    " /  \\\n",
    "4   5\n",
    "Now, the level order traversal of\n",
    "the above tree is 1 2 3 4 5.\n",
    "```\n",
    "\n"
   ]
  },
  {
   "cell_type": "code",
   "execution_count": 58,
   "metadata": {},
   "outputs": [
    {
     "name": "stdout",
     "output_type": "stream",
     "text": [
      "1 -> 2 -> 3 -> 4 -> 5 -> 6 -> None\n",
      "\n",
      "\n",
      "\n",
      "\n",
      "Tree:\n",
      "\n",
      "\n",
      "    -> 3\n",
      "        -> 6\n",
      "-> 1\n",
      "        -> 5\n",
      "    -> 2\n",
      "        -> 4\n"
     ]
    },
    {
     "data": {
      "text/plain": [
       "<__main__.Tree at 0x106b6dc70>"
      ]
     },
     "execution_count": 58,
     "metadata": {},
     "output_type": "execute_result"
    }
   ],
   "source": [
    "class ListNode:\n",
    "    # Constructor to create a new node\n",
    "    def __init__(self, data=0, next=None):\n",
    "        self.data = data\n",
    "        self.next = None\n",
    "\n",
    "\n",
    "class Tree:\n",
    "    # Constructor to create a new node\n",
    "    def __init__(self, data):\n",
    "        self.data = data\n",
    "        self.left = None\n",
    "        self.right = None\n",
    "\n",
    "    def print_treee(self, level=0):\n",
    "        if self.right:\n",
    "            self.right.print_treee(level + 1)\n",
    "        print(' ' * 4 * level + '->', self.data)\n",
    "        if self.left:\n",
    "            self.left.print_treee(level + 1)\n",
    "\n",
    "\n",
    "def convert(self):\n",
    "    list_nodes = []\n",
    "    current_node = self\n",
    "    while current_node:\n",
    "        root = Tree(current_node.data)\n",
    "        list_nodes.append(root)\n",
    "        current_node = current_node.next\n",
    "    v = 0\n",
    "    for i in range(len(list_nodes)):\n",
    "        node = list_nodes[i]\n",
    "        if (2*i + 1) < len(list_nodes):\n",
    "            left = list_nodes[2*i+1]\n",
    "            left.parent = node\n",
    "            node.left = left\n",
    "        if (2*i + 2) < len(list_nodes):\n",
    "            right = list_nodes[2*i+2]\n",
    "            right.parent = node\n",
    "            node.right = right\n",
    "\n",
    "    print(\"\\n\\n\\n\\nTree:\\n\\n\")\n",
    "    Tree.print_treee(list_nodes[0])\n",
    "    return list_nodes[0]\n",
    "\n",
    "\n",
    "def list_to_linkedlist(lst):\n",
    "    dummy = ListNode()\n",
    "    current = dummy\n",
    "    for value in lst:\n",
    "        current.next = ListNode(value)\n",
    "        current = current.next\n",
    "    return dummy.next\n",
    "\n",
    "def print_linkedlist(node):\n",
    "    while node:\n",
    "        print(node.data, end=\" -> \")\n",
    "        node = node.next\n",
    "    print(\"None\") \n",
    "\n",
    "lst = [1, 2, 3, 4, 5, 6]\n",
    "l = list_to_linkedlist(lst)\n",
    "print_linkedlist(l)\n",
    "convert(l)"
   ]
  }
 ],
 "metadata": {
  "kernelspec": {
   "display_name": "Python 3",
   "language": "python",
   "name": "python3"
  },
  "language_info": {
   "codemirror_mode": {
    "name": "ipython",
    "version": 3
   },
   "file_extension": ".py",
   "mimetype": "text/x-python",
   "name": "python",
   "nbconvert_exporter": "python",
   "pygments_lexer": "ipython3",
   "version": "3.12.2"
  }
 },
 "nbformat": 4,
 "nbformat_minor": 2
}
