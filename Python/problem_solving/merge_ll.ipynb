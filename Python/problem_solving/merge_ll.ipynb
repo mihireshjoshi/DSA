{
 "cells": [
  {
   "cell_type": "code",
   "execution_count": 1,
   "metadata": {},
   "outputs": [],
   "source": [
    "from typing import Optional"
   ]
  },
  {
   "cell_type": "code",
   "execution_count": 12,
   "metadata": {},
   "outputs": [],
   "source": [
    "class ListNode:\n",
    "    def __init__(self, val=0, next=None):\n",
    "        self.val = val\n",
    "        self.next = next\n",
    "        \n",
    "class Solution:\n",
    "\n",
    "    def list_to_linkedlist(self, lst):\n",
    "        dummy = ListNode()\n",
    "        current = dummy\n",
    "        for value in lst:\n",
    "            current.next = ListNode(value)\n",
    "            current = current.next\n",
    "        return dummy.next\n",
    "    \n",
    "\n",
    "sol = Solution()\n",
    "\n",
    "list1 = [9, 10, 11, 12]\n",
    "list2 = [13, 14, 16, 18]\n",
    "\n",
    "ll_a = sol.list_to_linkedlist(list1)\n",
    "ll_b = sol.list_to_linkedlist(list2)"
   ]
  },
  {
   "cell_type": "code",
   "execution_count": 14,
   "metadata": {},
   "outputs": [
    {
     "name": "stdout",
     "output_type": "stream",
     "text": [
      "Type of list: <class '__main__.ListNode'>\n",
      "9 -> 10 -> 11 -> 12 -> 13 -> 14 -> 16 -> 18 -> None\n"
     ]
    }
   ],
   "source": [
    "class ListNode:\n",
    "    def __init__(self, val=0, next=None):\n",
    "        self.val = val\n",
    "        self.next = next\n",
    "        \n",
    "class Solution:\n",
    "\n",
    "    def list_to_linkedlist(self, lst):\n",
    "        dummy = ListNode()\n",
    "        current = dummy\n",
    "        for value in lst:\n",
    "            current.next = ListNode(value)\n",
    "            current = current.next\n",
    "        return dummy.next\n",
    "    \n",
    "\n",
    "    def mergeTwoLists(self, list1: Optional[ListNode], list2: Optional[ListNode]) -> Optional[ListNode]:\n",
    "        print(f\"Type of list: {type(list1)}\")\n",
    "        x = []\n",
    "        while list1 is not None:\n",
    "            x.append(list1.val)\n",
    "            list1 = list1.next\n",
    "        while list2 is not None:\n",
    "            x.append(list2.val)\n",
    "            list2 = list2.next\n",
    "\n",
    "        x.sort()\n",
    "\n",
    "        op = self.list_to_linkedlist(x)\n",
    "\n",
    "        return op\n",
    "\n",
    "\n",
    "sol = Solution()\n",
    "\n",
    "list1 = [9, 10, 11, 12]\n",
    "list2 = [13, 14, 16, 18]\n",
    "\n",
    "result2 = sol.mergeTwoLists(ll_a, ll_b)\n",
    "\n",
    "\n",
    "def print_linkedlist(node):\n",
    "    while node:\n",
    "        print(node.val, end=\" -> \")\n",
    "        node = node.next\n",
    "    print(\"None\")   \n",
    "\n",
    "print_linkedlist(result2)"
   ]
  }
 ],
 "metadata": {
  "kernelspec": {
   "display_name": "Python 3",
   "language": "python",
   "name": "python3"
  },
  "language_info": {
   "codemirror_mode": {
    "name": "ipython",
    "version": 3
   },
   "file_extension": ".py",
   "mimetype": "text/x-python",
   "name": "python",
   "nbconvert_exporter": "python",
   "pygments_lexer": "ipython3",
   "version": "3.12.2"
  }
 },
 "nbformat": 4,
 "nbformat_minor": 2
}
