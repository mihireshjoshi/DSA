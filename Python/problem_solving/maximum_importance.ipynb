{
 "cells": [
  {
   "cell_type": "markdown",
   "metadata": {},
   "source": [
    "# <strong>2285. Maximum Total Importance of Roads</strong>\n",
    "\n",
    "You are given an integer n denoting the number of cities in a country. The cities are numbered from ```0``` to ```n - 1```\n",
    "\n",
    "You are also given a 2D integer array roads where ```roads[i] = [ai, bi]``` denotes that there exists a bidirectional road connecting cities ai and bi.\n",
    "\n",
    "You need to assign each city with an integer value from ```1 to n```, where each value can only be used once. The importance of a road is then defined as the sum of the values of the two cities it connects.\n",
    "\n",
    "Return the maximum total importance of all roads possible after assigning the values optimally.\n",
    "\n"
   ]
  },
  {
   "cell_type": "markdown",
   "metadata": {},
   "source": [
    "```bash\n",
    "Input: n = 5, roads = [[0,1],[1,2],[2,3],[0,2],[1,3],[2,4]]\n",
    "Output: 43\n",
    "Explanation: The figure above shows the country and the assigned values of [2,4,5,3,1].\n",
    "- The road (0,1) has an importance of 2 + 4 = 6.\n",
    "- The road (1,2) has an importance of 4 + 5 = 9.\n",
    "- The road (2,3) has an importance of 5 + 3 = 8.\n",
    "- The road (0,2) has an importance of 2 + 5 = 7.\n",
    "- The road (1,3) has an importance of 4 + 3 = 7.\n",
    "- The road (2,4) has an importance of 5 + 1 = 6.\n",
    "The total importance of all roads is 6 + 9 + 8 + 7 + 7 + 6 = 43.\n",
    "It can be shown that we cannot obtain a greater total importance than 43.\n",
    "```"
   ]
  },
  {
   "cell_type": "markdown",
   "metadata": {},
   "source": [
    "# Basic Coding"
   ]
  },
  {
   "cell_type": "code",
   "execution_count": 17,
   "metadata": {},
   "outputs": [
    {
     "name": "stdout",
     "output_type": "stream",
     "text": [
      "Frequency of Node>>>> {0: 2, 1: 3, 2: 4, 3: 2, 4: 1}\n",
      "Sorted Dictionary>>>>>>{2: 4, 1: 3, 0: 2, 3: 2, 4: 1}\n",
      "After Applying n>>>>{2: 5, 1: 4, 0: 3, 3: 2, 4: 1}\n",
      "{0: 2, 1: 3, 2: 4, 3: 2, 4: 1}\n",
      "Value>>>>>>43\n"
     ]
    }
   ],
   "source": [
    "from collections import Counter\n",
    "from typing import List\n",
    "\n",
    "\n",
    "def maximumImportance( n: int, roads: List[List[int]]) -> int:\n",
    "        res = dict(sum(map(Counter, roads), Counter()))\n",
    "        print(f\"Frequency of Node>>>> {res}\")\n",
    "        sorted_dict = {k: v for k, v in sorted(res.items(), key=lambda item: item[1], reverse=True)}\n",
    "        print(f\"Sorted Dictionary>>>>>>{sorted_dict}\")\n",
    "        new_dict = {}\n",
    "        for node in sorted_dict:\n",
    "            new_dict[node] = n\n",
    "            n -= 1\n",
    "        print(f\"After Applying n>>>>{new_dict}\")\n",
    "        print(res)\n",
    "        val = 0\n",
    "        for node in new_dict:\n",
    "            val = val + (new_dict[node]*sorted_dict[node])\n",
    "        print(f\"Value>>>>>>{val}\")\n",
    "        return val\n",
    "\n",
    "\n",
    "a = [[0,1],[1,2],[2,3],[0,2],[1,3],[2,4]]\n",
    "n = 5\n",
    "maximumImportance(n=n, roads=a)"
   ]
  },
  {
   "cell_type": "markdown",
   "metadata": {},
   "source": [
    "# Optimal Codeing\n",
    "\n",
    "For overcoming output limit try removing all print statements"
   ]
  },
  {
   "cell_type": "code",
   "execution_count": 23,
   "metadata": {},
   "outputs": [
    {
     "name": "stdout",
     "output_type": "stream",
     "text": [
      "Roads>>>[[0, 1], [1, 2], [2, 3], [0, 2], [1, 3], [2, 4]]\n",
      "u and v>>>>>0 and 1\n",
      "u and v>>>>>1 and 2\n",
      "u and v>>>>>2 and 3\n",
      "u and v>>>>>0 and 2\n",
      "u and v>>>>>1 and 3\n",
      "u and v>>>>>2 and 4\n",
      "Frequency>>>>>Counter({2: 4, 1: 3, 0: 2, 3: 2, 4: 1})\n",
      "Sorted Nodes>>>>>[(2, 4), (1, 3), (0, 2), (3, 2), (4, 1)]\n",
      "Node>>>2 and Importance>>>>5\n",
      "Node>>>1 and Importance>>>>4\n",
      "Node>>>0 and Importance>>>>3\n",
      "Node>>>3 and Importance>>>>2\n",
      "Node>>>4 and Importance>>>>1\n",
      "Importance>>>>>{2: 5, 1: 4, 0: 3, 3: 2, 4: 1}\n",
      "Value>>>>>43\n"
     ]
    }
   ],
   "source": [
    "def maximumImportance(n: int, roads: List[List[int]]) -> int:\n",
    "    print(f\"Roads>>>{roads}\")\n",
    "    freq = Counter()\n",
    "    for u, v in roads:\n",
    "        print(f\"u and v>>>>>{u} and {v}\")\n",
    "        freq[u] += 1\n",
    "        freq[v] += 1\n",
    "    print(f\"Frequency>>>>>{freq}\")\n",
    "    sorted_nodes = sorted(freq.items(), key=lambda item: item[1], reverse=True)\n",
    "    print(f\"Sorted Nodes>>>>>{sorted_nodes}\")\n",
    "    importance = {}\n",
    "    current_importance = n\n",
    "    for node, _ in sorted_nodes:\n",
    "        importance[node] = current_importance\n",
    "        print(f\"Node>>>{node} and Importance>>>>{importance[node]}\")\n",
    "        current_importance -= 1\n",
    "    print(f\"Importance>>>>>{importance}\")\n",
    "    total_importance = sum(importance[u] + importance[v] for u, v in roads)\n",
    "    print(f\"Value>>>>>{total_importance}\")\n",
    "    return total_importance\n",
    "\n",
    "a = [[0,1],[1,2],[2,3],[0,2],[1,3],[2,4]]\n",
    "n = 5\n",
    "op = maximumImportance(n=n, roads=a)"
   ]
  }
 ],
 "metadata": {
  "kernelspec": {
   "display_name": "Python 3",
   "language": "python",
   "name": "python3"
  },
  "language_info": {
   "codemirror_mode": {
    "name": "ipython",
    "version": 3
   },
   "file_extension": ".py",
   "mimetype": "text/x-python",
   "name": "python",
   "nbconvert_exporter": "python",
   "pygments_lexer": "ipython3",
   "version": "3.12.2"
  }
 },
 "nbformat": 4,
 "nbformat_minor": 2
}
