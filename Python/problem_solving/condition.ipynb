{
 "cells": [
  {
   "cell_type": "code",
   "execution_count": null,
   "metadata": {},
   "outputs": [],
   "source": [
    "def check(nums, indexDiff, valueDiff):\n",
    "        i = 0\n",
    "        flag = False\n",
    "        while i<len(nums):\n",
    "            j = i+1\n",
    "            while j<len(nums):\n",
    "                counter = 0\n",
    "                # print(\"i and j are:\",i,j)\n",
    "                if i!=j:\n",
    "                    counter += 1\n",
    "                    # print(\"counter for 1:\", counter)\n",
    "                if abs(i - j) <= indexDiff:\n",
    "                    counter += 1\n",
    "                    # print(\"counter for 2:\", counter)\n",
    "                if abs(nums[i] - nums[j]) <= valueDiff:\n",
    "                    counter += 1\n",
    "                    # print(\"counter for 3:\", counter)\n",
    "                if counter==3:\n",
    "                    flag = True\n",
    "                    # print(flag)\n",
    "                    return flag\n",
    "                j += 1\n",
    "            else:\n",
    "                i += 1\n",
    "        return flag"
   ]
  }
 ],
 "metadata": {
  "kernelspec": {
   "display_name": "Python 3",
   "language": "python",
   "name": "python3"
  },
  "language_info": {
   "name": "python",
   "version": "3.12.2"
  }
 },
 "nbformat": 4,
 "nbformat_minor": 2
}
