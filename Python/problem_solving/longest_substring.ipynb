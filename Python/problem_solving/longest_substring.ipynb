{
 "cells": [
  {
   "cell_type": "code",
   "execution_count": 8,
   "metadata": {},
   "outputs": [
    {
     "name": "stdout",
     "output_type": "stream",
     "text": [
      "\n",
      "dvdf\n",
      "j>>> 0 c>>>>d\n",
      "Add>>>d\n",
      "j>>> 1 c>>>>v\n",
      "Add>>>v\n",
      "j>>> 2 c>>>>d\n",
      "Found>>>d\n",
      "\n",
      "vdf\n",
      "j>>> 0 c>>>>v\n",
      "Add>>>v\n",
      "j>>> 1 c>>>>d\n",
      "Add>>>d\n",
      "j>>> 2 c>>>>f\n",
      "Add>>>f\n",
      "\n",
      "df\n",
      "j>>> 0 c>>>>d\n",
      "Add>>>d\n",
      "j>>> 1 c>>>>f\n",
      "Add>>>f\n",
      "\n",
      "f\n",
      "j>>> 0 c>>>>f\n",
      "Add>>>f\n",
      "3\n"
     ]
    }
   ],
   "source": [
    "def findLongest(s):\n",
    "    maxlen = 0\n",
    "    longest = \"\"\n",
    "    for i in range(0,len(s)):\n",
    "        subs = s[i:]\n",
    "        chars = set()\n",
    "        print(f\"\\n{subs}\")\n",
    "        for j,c in enumerate(subs):\n",
    "            print(f\"j>>> {j} c>>>>{c}\")\n",
    "            if c in chars:\n",
    "                print(f\"Found>>>{c}\")\n",
    "                break\n",
    "            else:\n",
    "                chars.add(c)\n",
    "                print(f\"Add>>>{c}\")\n",
    "        else:\n",
    "            # add 1 when end of string is reached (no break)\n",
    "            # handles the case where the longest string is at the end\n",
    "            j+=1\n",
    "        if j>maxlen:\n",
    "            maxlen=j\n",
    "            longest=s[i:i+j]\n",
    "    return len(longest)\n",
    "\n",
    "print(findLongest(\"dvdf\"))"
   ]
  },
  {
   "cell_type": "code",
   "execution_count": 2,
   "metadata": {},
   "outputs": [
    {
     "name": "stdout",
     "output_type": "stream",
     "text": [
      "\n",
      "cn list>>>[0] and c list>>>[]\n",
      "AFTER>>>> cn list>>>[0, 1] and c list>>>['d']\n",
      "Letter>>>    d    and count>>>    1\n",
      "[0, 1]\n",
      "\n",
      "cn list>>>[0, 1] and c list>>>['d']\n",
      "AFTER>>>> cn list>>>[0, 1, 2] and c list>>>['d', 'v']\n",
      "Letter>>>    v    and count>>>    2\n",
      "[0, 1, 2]\n",
      "\n",
      "cn list>>>[0, 1, 2] and c list>>>['d', 'v']\n",
      "AFTER>>>> cn list>>>[0, 1, 2, 2, 1] and c list>>>['v', 'd']\n",
      "Letter>>>    d    and count>>>    1\n",
      "[0, 1, 2, 2, 1]\n",
      "\n",
      "cn list>>>[0, 1, 2, 2, 1] and c list>>>['v', 'd']\n",
      "AFTER>>>> cn list>>>[0, 1, 2, 2, 1, 2] and c list>>>['v', 'd', 'f']\n",
      "Letter>>>    f    and count>>>    2\n",
      "[0, 1, 2, 2, 1, 2]\n",
      "2\n"
     ]
    }
   ],
   "source": [
    "def lengthOfLongestSubstring(s: str) -> int:\n",
    "    c_list = []\n",
    "    count = 0\n",
    "    cn_list = [0]\n",
    "    for c in s:\n",
    "        print(f\"\\ncn list>>>{cn_list} and c list>>>{c_list}\")\n",
    "        if c not in c_list:\n",
    "            count += 1\n",
    "            c_list.append(c)\n",
    "        else:\n",
    "            c_list.remove(c)\n",
    "            c_list.append(c)\n",
    "            cn_list.append(count)\n",
    "            count = 1\n",
    "        cn_list.append(count)\n",
    "        print(f\"AFTER>>>> cn list>>>{cn_list} and c list>>>{c_list}\")\n",
    "        print(f\"Letter>>>    {c}    and count>>>    {count}\")\n",
    "        print(cn_list)\n",
    "    return max(cn_list)\n",
    "\n",
    "s = \"dvdf\"\n",
    "count = lengthOfLongestSubstring(s)\n",
    "\n",
    "print(count)"
   ]
  }
 ],
 "metadata": {
  "kernelspec": {
   "display_name": "Python 3",
   "language": "python",
   "name": "python3"
  },
  "language_info": {
   "codemirror_mode": {
    "name": "ipython",
    "version": 3
   },
   "file_extension": ".py",
   "mimetype": "text/x-python",
   "name": "python",
   "nbconvert_exporter": "python",
   "pygments_lexer": "ipython3",
   "version": "3.12.2"
  }
 },
 "nbformat": 4,
 "nbformat_minor": 2
}
