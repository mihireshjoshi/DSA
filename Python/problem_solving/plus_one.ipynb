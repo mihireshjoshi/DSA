{
 "cells": [
  {
   "cell_type": "markdown",
   "metadata": {},
   "source": [
    "# <strong>66. Plus One</strong>\n",
    "\n",
    "<p style=\"color: #3AB613\">Easy</p>\n",
    "\n",
    "You are given a **large integer** represented as an integer array ```digits```, where each ```digits[i]``` is the ```i```th digit of the integer. The ```digits``` are ordered from most significant to least significant in left-to-right order. The large integer does not contain any leading ```0```'s.\n",
    "\n",
    "Increment the large integer by one and return the resulting array of ```digits```.\n",
    "\n",
    "### Example 1:\n",
    "```bash\n",
    "Input: digits = [1,2,3]\n",
    "Output: [1,2,4]\n",
    "Explanation: The array represents the integer 123.\n",
    "Incrementing by one gives 123 + 1 = 124.\n",
    "Thus, the result should be [1,2,4].\n",
    "```\n",
    "\n",
    "### Example 2:\n",
    "```bash\n",
    "Input: digits = [9]\n",
    "Output: [1,0]\n",
    "Explanation: The array represents the integer 9.\n",
    "Incrementing by one gives 9 + 1 = 10.\n",
    "Thus, the result should be [1,0].\n",
    "```"
   ]
  },
  {
   "cell_type": "code",
   "execution_count": 1,
   "metadata": {},
   "outputs": [],
   "source": [
    "from typing import List"
   ]
  },
  {
   "cell_type": "code",
   "execution_count": 2,
   "metadata": {},
   "outputs": [
    {
     "name": "stdout",
     "output_type": "stream",
     "text": [
      "4\n",
      "[4, 3, 9, 9]\n",
      "3\n",
      "[4, 3, 9, 0]\n",
      "2\n",
      "[4, 3, 0, 0]\n",
      "[4, 4, 0, 0]\n"
     ]
    }
   ],
   "source": [
    "class Solution:\n",
    "    def fun_in(self, n, digits):\n",
    "        print(n)\n",
    "        print(digits)\n",
    "        if digits[n-1]==9:\n",
    "            digits[n-1]=0\n",
    "            if n-1>=0:\n",
    "                self.fun_in(n-1, digits)\n",
    "            else:\n",
    "                digits = [1] + digits\n",
    "        else:\n",
    "            if n-1>=0:\n",
    "                digits[n-1] += 1\n",
    "            else:\n",
    "                print(\"here\")\n",
    "                digits.insert(0,1)\n",
    "        return digits\n",
    "    \n",
    "    def plusOne(self, digits: List[int]) -> List[int]:\n",
    "        return self.fun_in(len(digits), digits)\n",
    "    \n",
    "sol = Solution()\n",
    "digits = [4,3,9,9]\n",
    "a = sol.plusOne(digits)\n",
    "print(a)"
   ]
  }
 ],
 "metadata": {
  "kernelspec": {
   "display_name": "Python 3",
   "language": "python",
   "name": "python3"
  },
  "language_info": {
   "codemirror_mode": {
    "name": "ipython",
    "version": 3
   },
   "file_extension": ".py",
   "mimetype": "text/x-python",
   "name": "python",
   "nbconvert_exporter": "python",
   "pygments_lexer": "ipython3",
   "version": "3.12.2"
  }
 },
 "nbformat": 4,
 "nbformat_minor": 2
}
