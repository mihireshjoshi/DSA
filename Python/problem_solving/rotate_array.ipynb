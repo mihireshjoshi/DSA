{
 "cells": [
  {
   "cell_type": "markdown",
   "metadata": {},
   "source": [
    "# <strong>🧩189. Rotate Array</strong>\n",
    "\n",
    "Given an integer array ```nums```, rotate the array to the right by ```k``` steps, where ```k``` is non-negative.\n",
    "\n",
    "### Example 1:\n",
    "\n",
    "```bash\n",
    "Input: nums = [1,2,3,4,5,6,7], k = 3\n",
    "Output: [5,6,7,1,2,3,4]\n",
    "Explanation:\n",
    "rotate 1 steps to the right: [7,1,2,3,4,5,6]\n",
    "rotate 2 steps to the right: [6,7,1,2,3,4,5]\n",
    "rotate 3 steps to the right: [5,6,7,1,2,3,4]\n",
    "```\n",
    "\n",
    "\n",
    "### Example 2:\n",
    "\n",
    "```bash\n",
    "Input: nums = [-1,-100,3,99], k = 2\n",
    "Output: [3,99,-1,-100]\n",
    "Explanation: \n",
    "rotate 1 steps to the right: [99,-1,-100,3]\n",
    "rotate 2 steps to the right: [3,99,-1,-100]\n",
    "```"
   ]
  },
  {
   "cell_type": "code",
   "execution_count": 18,
   "metadata": {},
   "outputs": [],
   "source": [
    "from typing import List\n",
    "from collections import deque"
   ]
  },
  {
   "cell_type": "markdown",
   "metadata": {},
   "source": [
    "# Using Temp and Other Variables Without For Loop (deinied by leetcode due to output format)"
   ]
  },
  {
   "cell_type": "code",
   "execution_count": 16,
   "metadata": {},
   "outputs": [
    {
     "name": "stdout",
     "output_type": "stream",
     "text": [
      "Temp>>>>>>[1, 2]\n",
      "TempB>>>>>>[3]\n",
      "Final>>>>>>[3, 1, 2]\n",
      "Nums>>>>>[3, 1, 2]\n"
     ]
    }
   ],
   "source": [
    "class Solution:\n",
    "    def rotate(self, nums: List[int], k: int) -> None:\n",
    "        \"\"\"\n",
    "        Do not return anything, modify nums in-place instead.\n",
    "        \"\"\"\n",
    "        temp = []\n",
    "        # for i in range(len(nums) - k):\n",
    "        #     print(nums[i])\n",
    "        temp.extend(nums[0:len(nums)-k])\n",
    "        print(f\"Temp>>>>>>{temp}\")\n",
    "        temp_b = []\n",
    "        temp_b.extend(nums[len(nums)-k:len(nums)])\n",
    "        print(f\"TempB>>>>>>{temp_b}\")\n",
    "        temp_b.extend(temp)\n",
    "        print(f\"Final>>>>>>{temp_b}\")\n",
    "        nums = temp_b\n",
    "        print(f\"Nums>>>>>{nums}\")\n",
    "\n",
    "\n",
    "\n",
    "sol = Solution()\n",
    "\n",
    "nums = [1, 2, 3]\n",
    "k = 4\n",
    "sol.rotate(nums, k)"
   ]
  },
  {
   "cell_type": "markdown",
   "metadata": {},
   "source": [
    "# Using for Loop Accepted by Leetcode"
   ]
  },
  {
   "cell_type": "code",
   "execution_count": 22,
   "metadata": {},
   "outputs": [
    {
     "name": "stdout",
     "output_type": "stream",
     "text": [
      "[5, 6, 7, 1, 2, 3, 4]\n"
     ]
    }
   ],
   "source": [
    "class Solution:\n",
    "    def rotate(self, nums: List[int], k: int) -> None:\n",
    "        \"\"\"\n",
    "        Do not return anything, modify nums in-place instead.\n",
    "        \"\"\"\n",
    "        for i in range(k):\n",
    "            nums.insert(0, nums.pop(-1))\n",
    "\n",
    "        print(nums)\n",
    "\n",
    "\n",
    "sol = Solution()\n",
    "\n",
    "nums = [1,2,3,4,5,6,7]\n",
    "k = 3\n",
    "sol.rotate(nums, 3)"
   ]
  }
 ],
 "metadata": {
  "kernelspec": {
   "display_name": "Python 3",
   "language": "python",
   "name": "python3"
  },
  "language_info": {
   "codemirror_mode": {
    "name": "ipython",
    "version": 3
   },
   "file_extension": ".py",
   "mimetype": "text/x-python",
   "name": "python",
   "nbconvert_exporter": "python",
   "pygments_lexer": "ipython3",
   "version": "3.12.2"
  }
 },
 "nbformat": 4,
 "nbformat_minor": 2
}
