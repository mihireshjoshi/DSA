{
 "cells": [
  {
   "cell_type": "markdown",
   "metadata": {},
   "source": [
    "# with Time Complexity: O(N)"
   ]
  },
  {
   "cell_type": "code",
   "execution_count": 6,
   "metadata": {},
   "outputs": [
    {
     "name": "stdout",
     "output_type": "stream",
     "text": [
      "k is>>8 and i is>>>1\n",
      "k is>>4 and i is>>>2\n",
      "k is>>2 and i is>>>3\n",
      "k is>>2 and i is>>>4\n",
      "k is>>1 and i is>>>5\n",
      "k is>>1 and i is>>>6\n",
      "k is>>1 and i is>>>7\n",
      "k is>>1 and i is>>>8\n",
      "56\n"
     ]
    }
   ],
   "source": [
    "def sumOfDivisors(n):\n",
    "    fin = 0\n",
    "    if n <= 0:\n",
    "        return fin\n",
    "    for i in range(1, n + 1):\n",
    "        k = n//i\n",
    "        print(f\"k is>>{k} and i is>>>{i}\")\n",
    "        fin += i * k\n",
    "    return fin\n",
    "\n",
    "result = sumOfDivisors(8)\n",
    "print(result) "
   ]
  },
  {
   "cell_type": "markdown",
   "metadata": {},
   "source": [
    "# with Time Complexity as O(N<sup>2</sup>)"
   ]
  },
  {
   "cell_type": "code",
   "execution_count": 1,
   "metadata": {},
   "outputs": [
    {
     "name": "stdout",
     "output_type": "stream",
     "text": [
      "Sum>>>\n",
      "Fin>>>0\n",
      "I is 1\n",
      "Sum>>>\n",
      "Fin>>>1\n",
      "I is 1\n",
      "I is 2\n",
      "Sum>>>\n",
      "Fin>>>4\n",
      "I is 1\n",
      "I is 2\n",
      "I is 3\n",
      "Sum>>>\n",
      "Fin>>>8\n",
      "I is 1\n",
      "I is 2\n",
      "I is 3\n",
      "I is 4\n",
      "Sum>>>\n",
      "Fin>>>15\n",
      "15\n"
     ]
    }
   ],
   "source": [
    "def addMain(N):\n",
    "    n = int(N)\n",
    "    sum = 0\n",
    "    for i in range(1, n+1):\n",
    "        print(f\"I is {i}\")\n",
    "        if (n%i==0):\n",
    "            sum = sum + i\n",
    "    print(f\"Sum>>>\")\n",
    "    return sum\n",
    "\n",
    "def sumOfDivisors(N):\n",
    "    #code here \n",
    "    fin = 0\n",
    "    for i in range(N+1):\n",
    "        fin = fin + addMain(i)\n",
    "        print(f\"Fin>>>{fin}\")\n",
    "    return fin\n",
    "\n",
    "\n",
    "sum = sumOfDivisors(4)\n",
    "print(sum)"
   ]
  },
  {
   "cell_type": "code",
   "execution_count": null,
   "metadata": {},
   "outputs": [],
   "source": [
    "def sumOfDivisors(N):\n",
    "    fin = 0\n",
    "    for i in range(N+1):\n",
    "        fin += sum(j for j in range(1, i+1) if i % j == 0)\n",
    "        print(f\"Fin>>>{fin}\")\n",
    "    return fin\n",
    "result = sumOfDivisors(4)\n",
    "print(result) \n"
   ]
  }
 ],
 "metadata": {
  "kernelspec": {
   "display_name": "Python 3",
   "language": "python",
   "name": "python3"
  },
  "language_info": {
   "codemirror_mode": {
    "name": "ipython",
    "version": 3
   },
   "file_extension": ".py",
   "mimetype": "text/x-python",
   "name": "python",
   "nbconvert_exporter": "python",
   "pygments_lexer": "ipython3",
   "version": "3.12.2"
  }
 },
 "nbformat": 4,
 "nbformat_minor": 2
}
